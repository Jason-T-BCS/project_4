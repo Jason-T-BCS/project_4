{
 "cells": [
  {
   "cell_type": "code",
   "execution_count": 1,
   "metadata": {
    "colab": {
     "base_uri": "https://localhost:8080/",
     "height": 122
    },
    "colab_type": "code",
    "id": "ZVLvnJA1hprJ",
    "outputId": "87e5faa8-6ca7-4abc-c080-b5b4756ad1fe"
   },
   "outputs": [],
   "source": [
    "import pandas as pd"
   ]
  },
  {
   "cell_type": "code",
   "execution_count": 2,
   "metadata": {
    "colab": {},
    "colab_type": "code",
    "id": "yqluJ0tXiKEh"
   },
   "outputs": [],
   "source": [
    "electionData= pd.read_csv('PresidentElectionsData.csv')"
   ]
  },
  {
   "cell_type": "code",
   "execution_count": 3,
   "metadata": {
    "colab": {},
    "colab_type": "code",
    "id": "7iVbtA0Ji-JK"
   },
   "outputs": [],
   "source": [
    "electionData_refined= electionData[['state_fips','state_cen','state_ic','party','candidatevotes','totalvotes']]"
   ]
  },
  {
   "cell_type": "code",
   "execution_count": 4,
   "metadata": {
    "colab": {},
    "colab_type": "code",
    "id": "-QQ1HC3VmNhr"
   },
   "outputs": [],
   "source": [
    "electionData_refined = electionData_refined.dropna()"
   ]
  },
  {
   "cell_type": "code",
   "execution_count": 5,
   "metadata": {
    "colab": {},
    "colab_type": "code",
    "id": "0PvyA54dpqoi"
   },
   "outputs": [],
   "source": [
    "# Removing all other parties than republican , democrat and independant\n",
    "electionData_refined = electionData_refined.loc[electionData_refined['party'].isin(['democrat','republican','independent'])]"
   ]
  },
  {
   "cell_type": "code",
   "execution_count": 6,
   "metadata": {
    "colab": {},
    "colab_type": "code",
    "id": "O9pxY1dy23VA"
   },
   "outputs": [],
   "source": [
    "def Labeler(x):\n",
    "  if(x=='democrat'):\n",
    "    return 1\n",
    "  elif(x=='republican'):\n",
    "    return 2\n",
    "  elif(x=='independent'):\n",
    "    return 3\n"
   ]
  },
  {
   "cell_type": "code",
   "execution_count": 7,
   "metadata": {
    "colab": {},
    "colab_type": "code",
    "id": "eF45ZpVwrbDB"
   },
   "outputs": [],
   "source": [
    "electionData_refined['party'] = electionData_refined['party'].apply(Labeler)"
   ]
  },
  {
   "cell_type": "code",
   "execution_count": 8,
   "metadata": {
    "colab": {
     "base_uri": "https://localhost:8080/",
     "height": 419
    },
    "colab_type": "code",
    "id": "3uAex-Fk42iL",
    "outputId": "af94c0a2-5d92-4727-9b14-18e498086d65"
   },
   "outputs": [
    {
     "data": {
      "text/html": [
       "<div>\n",
       "<style scoped>\n",
       "    .dataframe tbody tr th:only-of-type {\n",
       "        vertical-align: middle;\n",
       "    }\n",
       "\n",
       "    .dataframe tbody tr th {\n",
       "        vertical-align: top;\n",
       "    }\n",
       "\n",
       "    .dataframe thead th {\n",
       "        text-align: right;\n",
       "    }\n",
       "</style>\n",
       "<table border=\"1\" class=\"dataframe\">\n",
       "  <thead>\n",
       "    <tr style=\"text-align: right;\">\n",
       "      <th></th>\n",
       "      <th>state_fips</th>\n",
       "      <th>state_cen</th>\n",
       "      <th>state_ic</th>\n",
       "      <th>party</th>\n",
       "      <th>candidatevotes</th>\n",
       "      <th>totalvotes</th>\n",
       "    </tr>\n",
       "  </thead>\n",
       "  <tbody>\n",
       "    <tr>\n",
       "      <td>0</td>\n",
       "      <td>1</td>\n",
       "      <td>63</td>\n",
       "      <td>41</td>\n",
       "      <td>1</td>\n",
       "      <td>659170</td>\n",
       "      <td>1182850</td>\n",
       "    </tr>\n",
       "    <tr>\n",
       "      <td>1</td>\n",
       "      <td>1</td>\n",
       "      <td>63</td>\n",
       "      <td>41</td>\n",
       "      <td>2</td>\n",
       "      <td>504070</td>\n",
       "      <td>1182850</td>\n",
       "    </tr>\n",
       "    <tr>\n",
       "      <td>7</td>\n",
       "      <td>2</td>\n",
       "      <td>94</td>\n",
       "      <td>81</td>\n",
       "      <td>2</td>\n",
       "      <td>71555</td>\n",
       "      <td>123574</td>\n",
       "    </tr>\n",
       "    <tr>\n",
       "      <td>8</td>\n",
       "      <td>2</td>\n",
       "      <td>94</td>\n",
       "      <td>81</td>\n",
       "      <td>1</td>\n",
       "      <td>44058</td>\n",
       "      <td>123574</td>\n",
       "    </tr>\n",
       "    <tr>\n",
       "      <td>11</td>\n",
       "      <td>4</td>\n",
       "      <td>86</td>\n",
       "      <td>61</td>\n",
       "      <td>2</td>\n",
       "      <td>418642</td>\n",
       "      <td>742719</td>\n",
       "    </tr>\n",
       "    <tr>\n",
       "      <td>...</td>\n",
       "      <td>...</td>\n",
       "      <td>...</td>\n",
       "      <td>...</td>\n",
       "      <td>...</td>\n",
       "      <td>...</td>\n",
       "      <td>...</td>\n",
       "    </tr>\n",
       "    <tr>\n",
       "      <td>3723</td>\n",
       "      <td>55</td>\n",
       "      <td>35</td>\n",
       "      <td>25</td>\n",
       "      <td>2</td>\n",
       "      <td>1405284</td>\n",
       "      <td>2976150</td>\n",
       "    </tr>\n",
       "    <tr>\n",
       "      <td>3724</td>\n",
       "      <td>55</td>\n",
       "      <td>35</td>\n",
       "      <td>25</td>\n",
       "      <td>1</td>\n",
       "      <td>1382536</td>\n",
       "      <td>2976150</td>\n",
       "    </tr>\n",
       "    <tr>\n",
       "      <td>3732</td>\n",
       "      <td>56</td>\n",
       "      <td>83</td>\n",
       "      <td>68</td>\n",
       "      <td>2</td>\n",
       "      <td>174419</td>\n",
       "      <td>258788</td>\n",
       "    </tr>\n",
       "    <tr>\n",
       "      <td>3733</td>\n",
       "      <td>56</td>\n",
       "      <td>83</td>\n",
       "      <td>68</td>\n",
       "      <td>1</td>\n",
       "      <td>55973</td>\n",
       "      <td>258788</td>\n",
       "    </tr>\n",
       "    <tr>\n",
       "      <td>3736</td>\n",
       "      <td>56</td>\n",
       "      <td>83</td>\n",
       "      <td>68</td>\n",
       "      <td>3</td>\n",
       "      <td>3224</td>\n",
       "      <td>258788</td>\n",
       "    </tr>\n",
       "  </tbody>\n",
       "</table>\n",
       "<p>1432 rows × 6 columns</p>\n",
       "</div>"
      ],
      "text/plain": [
       "      state_fips  state_cen  state_ic  party  candidatevotes  totalvotes\n",
       "0              1         63        41      1          659170     1182850\n",
       "1              1         63        41      2          504070     1182850\n",
       "7              2         94        81      2           71555      123574\n",
       "8              2         94        81      1           44058      123574\n",
       "11             4         86        61      2          418642      742719\n",
       "...          ...        ...       ...    ...             ...         ...\n",
       "3723          55         35        25      2         1405284     2976150\n",
       "3724          55         35        25      1         1382536     2976150\n",
       "3732          56         83        68      2          174419      258788\n",
       "3733          56         83        68      1           55973      258788\n",
       "3736          56         83        68      3            3224      258788\n",
       "\n",
       "[1432 rows x 6 columns]"
      ]
     },
     "execution_count": 8,
     "metadata": {},
     "output_type": "execute_result"
    }
   ],
   "source": [
    "electionData_refined"
   ]
  },
  {
   "cell_type": "code",
   "execution_count": 9,
   "metadata": {
    "colab": {
     "base_uri": "https://localhost:8080/",
     "height": 34
    },
    "colab_type": "code",
    "id": "Q9xUvqyV6X1Z",
    "outputId": "7023a804-32ae-4047-8f07-71f1030b18c5"
   },
   "outputs": [
    {
     "data": {
      "text/plain": [
       "(1432, 1)"
      ]
     },
     "execution_count": 9,
     "metadata": {},
     "output_type": "execute_result"
    }
   ],
   "source": [
    "X = electionData_refined[['state_fips','party','totalvotes']]\n",
    "y = electionData_refined[['candidatevotes']]\n",
    "X.shape\n",
    "y.shape"
   ]
  },
  {
   "cell_type": "code",
   "execution_count": 10,
   "metadata": {
    "colab": {},
    "colab_type": "code",
    "id": "DVgVSnsq4Smu"
   },
   "outputs": [],
   "source": [
    "from sklearn.model_selection import train_test_split\n",
    "\n",
    "X_train, X_test, y_train, y_test = train_test_split(X, y, test_size=0.20, random_state=42)"
   ]
  },
  {
   "cell_type": "code",
   "execution_count": 11,
   "metadata": {
    "colab": {
     "base_uri": "https://localhost:8080/",
     "height": 34
    },
    "colab_type": "code",
    "id": "tn4JxvAbuh8U",
    "outputId": "333011aa-7e0b-4c02-e894-079e4b4cc208"
   },
   "outputs": [
    {
     "data": {
      "text/plain": [
       "LinearRegression(copy_X=True, fit_intercept=True, n_jobs=None, normalize=False)"
      ]
     },
     "execution_count": 11,
     "metadata": {},
     "output_type": "execute_result"
    }
   ],
   "source": [
    "from sklearn.linear_model import LinearRegression\n",
    "reg = LinearRegression()\n",
    "reg.fit(X_train, y_train)"
   ]
  },
  {
   "cell_type": "code",
   "execution_count": 12,
   "metadata": {
    "colab": {
     "base_uri": "https://localhost:8080/",
     "height": 398
    },
    "colab_type": "code",
    "id": "niPid2Mgq3_s",
    "outputId": "20abd0fb-bb4f-44fb-d6ce-921e204ea110"
   },
   "outputs": [
    {
     "name": "stdout",
     "output_type": "stream",
     "text": [
      "Coefficients: \n",
      " [[-3.88919482e+02 -3.66909866e+05  3.94368817e-01]]\n",
      "Mean squared error: 162255793727.63\n",
      "Variance score: 0.86\n"
     ]
    },
    {
     "data": {
      "text/plain": [
       "<Figure size 640x480 with 1 Axes>"
      ]
     },
     "metadata": {},
     "output_type": "display_data"
    }
   ],
   "source": [
    "import matplotlib.pyplot as plt\n",
    "import numpy as np\n",
    "from sklearn import datasets, linear_model\n",
    "from sklearn.metrics import mean_squared_error, r2_score\n",
    "y_pred = reg.predict(X_test)\n",
    "# The coefficients\n",
    "print('Coefficients: \\n', reg.coef_)\n",
    "# The mean squared error\n",
    "print(\"Mean squared error: %.2f\" % mean_squared_error(y_test, y_pred))\n",
    "# Explained variance score: 1 is perfect prediction\n",
    "print('Variance score: %.2f' % r2_score(y_test, y_pred))\n",
    "\n",
    "# Plot outputs\n",
    "plt.scatter(X_test['totalvotes'], y_test,  color='black')\n",
    "plt.plot(X_test['totalvotes'],y_pred, color='blue', linewidth=1)\n",
    "plt.xticks(())\n",
    "plt.yticks(())\n",
    "\n",
    "plt.show()"
   ]
  },
  {
   "cell_type": "code",
   "execution_count": 13,
   "metadata": {
    "colab": {
     "base_uri": "https://localhost:8080/",
     "height": 51
    },
    "colab_type": "code",
    "id": "PrRhiaZ27Dx3",
    "outputId": "55e3c419-4502-428b-f128-00545a6e292a"
   },
   "outputs": [
    {
     "name": "stdout",
     "output_type": "stream",
     "text": [
      "Votes for Democratic 582657.8048038508\n",
      "Votes for Republican 215747.93888539827\n"
     ]
    }
   ],
   "source": [
    "import numpy as np\n",
    "print(\"Votes for Democratic\",reg.predict(np.array([[1, 1,742719]]))[0][0])\n",
    "print(\"Votes for Republican\",reg.predict(np.array([[1, 2,742719]]))[0][0])"
   ]
  },
  {
   "cell_type": "code",
   "execution_count": 16,
   "metadata": {
    "colab": {
     "base_uri": "https://localhost:8080/",
     "height": 34
    },
    "colab_type": "code",
    "id": "BUuQmDaO75JJ",
    "outputId": "dda575d8-93a1-4256-ae18-8bfa0265e77c"
   },
   "outputs": [
    {
     "name": "stdout",
     "output_type": "stream",
     "text": [
      "Enter Total Number of Voters in 2020 138000000\n"
     ]
    }
   ],
   "source": [
    "totalVotes=input(\"Enter Total Number of Voters in 2020 \")\n",
    "i = 0\n",
    "democratWins=0\n",
    "RepublicanWins=0\n",
    "while(i<56):\n",
    "    if(float(reg.predict(np.array([[i, 1,int(totalVotes)]]))[0][0])<float(reg.predict(np.array([[i, 2,int(totalVotes)]]))[0][0])):\n",
    "        RepublicanWins+=1\n",
    "    else:\n",
    "        democratWins+=1\n",
    "        i+=1"
   ]
  },
  {
   "cell_type": "code",
   "execution_count": 17,
   "metadata": {
    "colab": {
     "base_uri": "https://localhost:8080/",
     "height": 34
    },
    "colab_type": "code",
    "id": "ctgw22_Y8u26",
    "outputId": "feda5d1a-353d-4a05-b57c-839ba2d65170"
   },
   "outputs": [
    {
     "name": "stdout",
     "output_type": "stream",
     "text": [
      "Democratic Party won the election\n"
     ]
    }
   ],
   "source": [
    "if(RepublicanWins<democratWins):\n",
    "    print(\"Democratic Party won the election\")\n",
    "else:\n",
    "    print(\"Republican Party won the election\")\n"
   ]
  },
  {
   "cell_type": "code",
   "execution_count": null,
   "metadata": {},
   "outputs": [],
   "source": []
  }
 ],
 "metadata": {
  "colab": {
   "collapsed_sections": [],
   "name": "Presidential Election Prediction.ipynb",
   "provenance": []
  },
  "kernelspec": {
   "display_name": "Python 3",
   "language": "python",
   "name": "python3"
  },
  "language_info": {
   "codemirror_mode": {
    "name": "ipython",
    "version": 3
   },
   "file_extension": ".py",
   "mimetype": "text/x-python",
   "name": "python",
   "nbconvert_exporter": "python",
   "pygments_lexer": "ipython3",
   "version": "3.7.4"
  }
 },
 "nbformat": 4,
 "nbformat_minor": 1
}
