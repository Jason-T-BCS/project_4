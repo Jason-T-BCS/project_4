{
 "cells": [
  {
   "cell_type": "code",
   "execution_count": 8,
   "metadata": {},
   "outputs": [],
   "source": [
    "#dependencies\n",
    "import pandas as pd\n",
    "from pathlib import Path\n",
    "import xgboost as xgb\n",
    "from sklearn.linear_model import LogisticRegression\n",
    "from sklearn.svm import SVC\n",
    "from IPython.display import display"
   ]
  },
  {
   "cell_type": "code",
   "execution_count": 10,
   "metadata": {},
   "outputs": [
    {
     "name": "stdout",
     "output_type": "stream",
     "text": [
      "  Div        Date      HomeTeam        AwayTeam  FTHG  FTAG FTR  HTHG  HTAG  \\\n",
      "0  E0  10/08/2018    Man United       Leicester     2     1   H     1     0   \n",
      "1  E0  11/08/2018   Bournemouth         Cardiff     2     0   H     1     0   \n",
      "2  E0  11/08/2018        Fulham  Crystal Palace     0     2   A     0     1   \n",
      "3  E0  11/08/2018  Huddersfield         Chelsea     0     3   A     0     2   \n",
      "4  E0  11/08/2018     Newcastle       Tottenham     1     2   A     1     2   \n",
      "\n",
      "  HTR  ... BbAv<2.5  BbAH  BbAHh  BbMxAHH  BbAvAHH  BbMxAHA  BbAvAHA  PSCH  \\\n",
      "0   H  ...     1.79    17  -0.75     1.75     1.70     2.29     2.21  1.55   \n",
      "1   H  ...     1.83    20  -0.75     2.20     2.13     1.80     1.75  1.88   \n",
      "2   A  ...     1.87    22  -0.25     2.18     2.11     1.81     1.77  2.62   \n",
      "3   A  ...     1.84    23   1.00     1.84     1.80     2.13     2.06  7.24   \n",
      "4   A  ...     1.81    20   0.25     2.20     2.12     1.80     1.76  4.74   \n",
      "\n",
      "   PSCD  PSCA  \n",
      "0  4.07  7.69  \n",
      "1  3.61  4.70  \n",
      "2  3.38  2.90  \n",
      "3  3.95  1.58  \n",
      "4  3.53  1.89  \n",
      "\n",
      "[5 rows x 62 columns]\n"
     ]
    }
   ],
   "source": [
    "data_folder = Path(\"data\")\n",
    "data = pd.read_csv(data_folder / \"E0.csv\")\n",
    "print(data.head())"
   ]
  },
  {
   "cell_type": "code",
   "execution_count": 29,
   "metadata": {},
   "outputs": [
    {
     "name": "stdout",
     "output_type": "stream",
     "text": [
      "total matches: 380\n",
      "number of features: 61\n",
      "matches won at home: 380\n",
      "homeground win rate: 100\n"
     ]
    }
   ],
   "source": [
    "#checking\n",
    "#winning rate for home team\n",
    "n_matches = data.shape[0]\n",
    "\n",
    "n_features = data.shape[1] - 1\n",
    "\n",
    "n_homewins = len(data.FTR == 'H')\n",
    "win_rate = (float(n_homewins) / (n_matches)) * 100\n",
    "\n",
    "print (\"total matches: %d\" % n_matches)\n",
    "print (\"number of features: %d\" % n_features)\n",
    "print (\"matches won at home: %d\" % n_homewins)\n",
    "print (\"homeground win rate: %d\" % win_rate)"
   ]
  },
  {
   "cell_type": "code",
   "execution_count": null,
   "metadata": {},
   "outputs": [],
   "source": []
  }
 ],
 "metadata": {
  "kernelspec": {
   "display_name": "Python 3",
   "language": "python",
   "name": "python3"
  },
  "language_info": {
   "codemirror_mode": {
    "name": "ipython",
    "version": 3
   },
   "file_extension": ".py",
   "mimetype": "text/x-python",
   "name": "python",
   "nbconvert_exporter": "python",
   "pygments_lexer": "ipython3",
   "version": "3.7.4"
  }
 },
 "nbformat": 4,
 "nbformat_minor": 2
}
