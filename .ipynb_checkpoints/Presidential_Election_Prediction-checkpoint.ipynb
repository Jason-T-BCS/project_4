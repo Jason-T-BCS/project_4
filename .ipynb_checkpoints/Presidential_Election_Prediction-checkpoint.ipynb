{
 "cells": [
  {
   "cell_type": "code",
   "execution_count": 2,
   "metadata": {
    "colab": {
     "base_uri": "https://localhost:8080/",
     "height": 34
    },
    "colab_type": "code",
    "id": "ZVLvnJA1hprJ",
    "outputId": "a96be9fe-4953-47b9-8cbe-c4fb066a5bc3"
   },
   "outputs": [],
   "source": [
    "import pandas as pd\n",
    "#from google.colab import drive\n",
    "#drive.mount('/content/drive')"
   ]
  },
  {
   "cell_type": "code",
   "execution_count": 4,
   "metadata": {
    "colab": {},
    "colab_type": "code",
    "id": "yqluJ0tXiKEh"
   },
   "outputs": [],
   "source": [
    "electionData= pd.read_csv('PresidentElectionsData.csv')"
   ]
  },
  {
   "cell_type": "code",
   "execution_count": 5,
   "metadata": {
    "colab": {},
    "colab_type": "code",
    "id": "7iVbtA0Ji-JK"
   },
   "outputs": [],
   "source": [
    "electionData_refined= electionData[['state_fips','state_cen','state_ic','party','candidatevotes','totalvotes']]"
   ]
  },
  {
   "cell_type": "code",
   "execution_count": 6,
   "metadata": {
    "colab": {
     "base_uri": "https://localhost:8080/",
     "height": 419
    },
    "colab_type": "code",
    "id": "-QQ1HC3VmNhr",
    "outputId": "2dd284a5-2823-4224-9159-c73c7e622d27"
   },
   "outputs": [],
   "source": [
    "electionData_refined = electionData_refined.dropna()"
   ]
  },
  {
   "cell_type": "code",
   "execution_count": 7,
   "metadata": {
    "colab": {},
    "colab_type": "code",
    "id": "0PvyA54dpqoi"
   },
   "outputs": [],
   "source": [
    "# Removing all other parties than republican , democrat and independant\n",
    "electionData_refined = electionData_refined.loc[electionData_refined['party'].isin(['democrat','republican','independent'])]"
   ]
  },
  {
   "cell_type": "code",
   "execution_count": 8,
   "metadata": {
    "colab": {},
    "colab_type": "code",
    "id": "O9pxY1dy23VA"
   },
   "outputs": [],
   "source": [
    "def Labeler(x):\n",
    "  if(x=='democrat'):\n",
    "    return 1\n",
    "  elif(x=='republican'):\n",
    "    return 2\n",
    "  elif(x=='independent'):\n",
    "    return 3"
   ]
  },
  {
   "cell_type": "code",
   "execution_count": 9,
   "metadata": {
    "colab": {
     "base_uri": "https://localhost:8080/",
     "height": 119
    },
    "colab_type": "code",
    "id": "eF45ZpVwrbDB",
    "outputId": "22a26ff1-4d82-4fcf-a32b-72494c84dd8a"
   },
   "outputs": [],
   "source": [
    "electionData_refined['party'] = electionData_refined['party'].apply(Labeler)"
   ]
  },
  {
   "cell_type": "code",
   "execution_count": 10,
   "metadata": {
    "colab": {
     "base_uri": "https://localhost:8080/",
     "height": 419
    },
    "colab_type": "code",
    "id": "3uAex-Fk42iL",
    "outputId": "53e4d72e-611d-45ac-d532-537cd7ee5c2c"
   },
   "outputs": [
    {
     "data": {
      "text/html": [
       "<div>\n",
       "<style scoped>\n",
       "    .dataframe tbody tr th:only-of-type {\n",
       "        vertical-align: middle;\n",
       "    }\n",
       "\n",
       "    .dataframe tbody tr th {\n",
       "        vertical-align: top;\n",
       "    }\n",
       "\n",
       "    .dataframe thead th {\n",
       "        text-align: right;\n",
       "    }\n",
       "</style>\n",
       "<table border=\"1\" class=\"dataframe\">\n",
       "  <thead>\n",
       "    <tr style=\"text-align: right;\">\n",
       "      <th></th>\n",
       "      <th>state_fips</th>\n",
       "      <th>state_cen</th>\n",
       "      <th>state_ic</th>\n",
       "      <th>party</th>\n",
       "      <th>candidatevotes</th>\n",
       "      <th>totalvotes</th>\n",
       "    </tr>\n",
       "  </thead>\n",
       "  <tbody>\n",
       "    <tr>\n",
       "      <td>0</td>\n",
       "      <td>1</td>\n",
       "      <td>63</td>\n",
       "      <td>41</td>\n",
       "      <td>1</td>\n",
       "      <td>659170</td>\n",
       "      <td>1182850</td>\n",
       "    </tr>\n",
       "    <tr>\n",
       "      <td>1</td>\n",
       "      <td>1</td>\n",
       "      <td>63</td>\n",
       "      <td>41</td>\n",
       "      <td>2</td>\n",
       "      <td>504070</td>\n",
       "      <td>1182850</td>\n",
       "    </tr>\n",
       "    <tr>\n",
       "      <td>7</td>\n",
       "      <td>2</td>\n",
       "      <td>94</td>\n",
       "      <td>81</td>\n",
       "      <td>2</td>\n",
       "      <td>71555</td>\n",
       "      <td>123574</td>\n",
       "    </tr>\n",
       "    <tr>\n",
       "      <td>8</td>\n",
       "      <td>2</td>\n",
       "      <td>94</td>\n",
       "      <td>81</td>\n",
       "      <td>1</td>\n",
       "      <td>44058</td>\n",
       "      <td>123574</td>\n",
       "    </tr>\n",
       "    <tr>\n",
       "      <td>11</td>\n",
       "      <td>4</td>\n",
       "      <td>86</td>\n",
       "      <td>61</td>\n",
       "      <td>2</td>\n",
       "      <td>418642</td>\n",
       "      <td>742719</td>\n",
       "    </tr>\n",
       "    <tr>\n",
       "      <td>...</td>\n",
       "      <td>...</td>\n",
       "      <td>...</td>\n",
       "      <td>...</td>\n",
       "      <td>...</td>\n",
       "      <td>...</td>\n",
       "      <td>...</td>\n",
       "    </tr>\n",
       "    <tr>\n",
       "      <td>3723</td>\n",
       "      <td>55</td>\n",
       "      <td>35</td>\n",
       "      <td>25</td>\n",
       "      <td>2</td>\n",
       "      <td>1405284</td>\n",
       "      <td>2976150</td>\n",
       "    </tr>\n",
       "    <tr>\n",
       "      <td>3724</td>\n",
       "      <td>55</td>\n",
       "      <td>35</td>\n",
       "      <td>25</td>\n",
       "      <td>1</td>\n",
       "      <td>1382536</td>\n",
       "      <td>2976150</td>\n",
       "    </tr>\n",
       "    <tr>\n",
       "      <td>3732</td>\n",
       "      <td>56</td>\n",
       "      <td>83</td>\n",
       "      <td>68</td>\n",
       "      <td>2</td>\n",
       "      <td>174419</td>\n",
       "      <td>258788</td>\n",
       "    </tr>\n",
       "    <tr>\n",
       "      <td>3733</td>\n",
       "      <td>56</td>\n",
       "      <td>83</td>\n",
       "      <td>68</td>\n",
       "      <td>1</td>\n",
       "      <td>55973</td>\n",
       "      <td>258788</td>\n",
       "    </tr>\n",
       "    <tr>\n",
       "      <td>3736</td>\n",
       "      <td>56</td>\n",
       "      <td>83</td>\n",
       "      <td>68</td>\n",
       "      <td>3</td>\n",
       "      <td>3224</td>\n",
       "      <td>258788</td>\n",
       "    </tr>\n",
       "  </tbody>\n",
       "</table>\n",
       "<p>1432 rows × 6 columns</p>\n",
       "</div>"
      ],
      "text/plain": [
       "      state_fips  state_cen  state_ic  party  candidatevotes  totalvotes\n",
       "0              1         63        41      1          659170     1182850\n",
       "1              1         63        41      2          504070     1182850\n",
       "7              2         94        81      2           71555      123574\n",
       "8              2         94        81      1           44058      123574\n",
       "11             4         86        61      2          418642      742719\n",
       "...          ...        ...       ...    ...             ...         ...\n",
       "3723          55         35        25      2         1405284     2976150\n",
       "3724          55         35        25      1         1382536     2976150\n",
       "3732          56         83        68      2          174419      258788\n",
       "3733          56         83        68      1           55973      258788\n",
       "3736          56         83        68      3            3224      258788\n",
       "\n",
       "[1432 rows x 6 columns]"
      ]
     },
     "execution_count": 10,
     "metadata": {},
     "output_type": "execute_result"
    }
   ],
   "source": [
    "electionData_refined"
   ]
  },
  {
   "cell_type": "code",
   "execution_count": 11,
   "metadata": {
    "colab": {},
    "colab_type": "code",
    "id": "Q9xUvqyV6X1Z"
   },
   "outputs": [],
   "source": [
    "X = electionData_refined[['state_fips','party','totalvotes']]\n",
    "y = electionData_refined[['candidatevotes']]"
   ]
  },
  {
   "cell_type": "code",
   "execution_count": 12,
   "metadata": {
    "colab": {
     "base_uri": "https://localhost:8080/",
     "height": 419
    },
    "colab_type": "code",
    "id": "DVgVSnsq4Smu",
    "outputId": "ec12b081-f6a7-46cb-a2a7-8adc48419367"
   },
   "outputs": [
    {
     "data": {
      "text/html": [
       "<div>\n",
       "<style scoped>\n",
       "    .dataframe tbody tr th:only-of-type {\n",
       "        vertical-align: middle;\n",
       "    }\n",
       "\n",
       "    .dataframe tbody tr th {\n",
       "        vertical-align: top;\n",
       "    }\n",
       "\n",
       "    .dataframe thead th {\n",
       "        text-align: right;\n",
       "    }\n",
       "</style>\n",
       "<table border=\"1\" class=\"dataframe\">\n",
       "  <thead>\n",
       "    <tr style=\"text-align: right;\">\n",
       "      <th></th>\n",
       "      <th>state_fips</th>\n",
       "      <th>party</th>\n",
       "      <th>totalvotes</th>\n",
       "    </tr>\n",
       "  </thead>\n",
       "  <tbody>\n",
       "    <tr>\n",
       "      <td>0</td>\n",
       "      <td>1</td>\n",
       "      <td>1</td>\n",
       "      <td>1182850</td>\n",
       "    </tr>\n",
       "    <tr>\n",
       "      <td>1</td>\n",
       "      <td>1</td>\n",
       "      <td>2</td>\n",
       "      <td>1182850</td>\n",
       "    </tr>\n",
       "    <tr>\n",
       "      <td>7</td>\n",
       "      <td>2</td>\n",
       "      <td>2</td>\n",
       "      <td>123574</td>\n",
       "    </tr>\n",
       "    <tr>\n",
       "      <td>8</td>\n",
       "      <td>2</td>\n",
       "      <td>1</td>\n",
       "      <td>123574</td>\n",
       "    </tr>\n",
       "    <tr>\n",
       "      <td>11</td>\n",
       "      <td>4</td>\n",
       "      <td>2</td>\n",
       "      <td>742719</td>\n",
       "    </tr>\n",
       "    <tr>\n",
       "      <td>...</td>\n",
       "      <td>...</td>\n",
       "      <td>...</td>\n",
       "      <td>...</td>\n",
       "    </tr>\n",
       "    <tr>\n",
       "      <td>3723</td>\n",
       "      <td>55</td>\n",
       "      <td>2</td>\n",
       "      <td>2976150</td>\n",
       "    </tr>\n",
       "    <tr>\n",
       "      <td>3724</td>\n",
       "      <td>55</td>\n",
       "      <td>1</td>\n",
       "      <td>2976150</td>\n",
       "    </tr>\n",
       "    <tr>\n",
       "      <td>3732</td>\n",
       "      <td>56</td>\n",
       "      <td>2</td>\n",
       "      <td>258788</td>\n",
       "    </tr>\n",
       "    <tr>\n",
       "      <td>3733</td>\n",
       "      <td>56</td>\n",
       "      <td>1</td>\n",
       "      <td>258788</td>\n",
       "    </tr>\n",
       "    <tr>\n",
       "      <td>3736</td>\n",
       "      <td>56</td>\n",
       "      <td>3</td>\n",
       "      <td>258788</td>\n",
       "    </tr>\n",
       "  </tbody>\n",
       "</table>\n",
       "<p>1432 rows × 3 columns</p>\n",
       "</div>"
      ],
      "text/plain": [
       "      state_fips  party  totalvotes\n",
       "0              1      1     1182850\n",
       "1              1      2     1182850\n",
       "7              2      2      123574\n",
       "8              2      1      123574\n",
       "11             4      2      742719\n",
       "...          ...    ...         ...\n",
       "3723          55      2     2976150\n",
       "3724          55      1     2976150\n",
       "3732          56      2      258788\n",
       "3733          56      1      258788\n",
       "3736          56      3      258788\n",
       "\n",
       "[1432 rows x 3 columns]"
      ]
     },
     "execution_count": 12,
     "metadata": {},
     "output_type": "execute_result"
    }
   ],
   "source": [
    "X"
   ]
  },
  {
   "cell_type": "code",
   "execution_count": 16,
   "metadata": {
    "colab": {
     "base_uri": "https://localhost:8080/",
     "height": 34
    },
    "colab_type": "code",
    "id": "tn4JxvAbuh8U",
    "outputId": "5057d255-bcf5-4a73-f017-1dd2cd7ebe98"
   },
   "outputs": [],
   "source": [
    "from sklearn.linear_model import LinearRegression\n",
    "import matplotlib.pyplot as plt\n",
    "reg = LinearRegression()\n",
    "reg.fit(X, y)"
   ]
  },
  {
   "cell_type": "code",
   "execution_count": 14,
   "metadata": {
    "colab": {
     "base_uri": "https://localhost:8080/",
     "height": 51
    },
    "colab_type": "code",
    "id": "PrRhiaZ27Dx3",
    "outputId": "311f61fa-5fc9-4e82-fc39-d4641c76b2a0"
   },
   "outputs": [
    {
     "name": "stdout",
     "output_type": "stream",
     "text": [
      "Votes for Democratic 572459.8505705826\n",
      "Votes for Republican 209334.1569736398\n"
     ]
    }
   ],
   "source": [
    "import numpy as np\n",
    "print(\"Votes for Democratic\",reg.predict(np.array([[1, 1,742719]]))[0][0])\n",
    "print(\"Votes for Republican\",reg.predict(np.array([[1, 2,742719]]))[0][0])\n"
   ]
  },
  {
   "cell_type": "code",
   "execution_count": 63,
   "metadata": {
    "colab": {
     "base_uri": "https://localhost:8080/",
     "height": 34
    },
    "colab_type": "code",
    "id": "BUuQmDaO75JJ",
    "outputId": "db5a28ca-f27c-42b0-f6e4-234092abfb88"
   },
   "outputs": [
    {
     "name": "stdout",
     "output_type": "stream",
     "text": [
      "Enter Total Number of Voters in 2020 742719\n"
     ]
    }
   ],
   "source": [
    "totalVotes=input(\"Enter Total Number of Voters in 2020 \")\n",
    "i = 0\n",
    "democratWins=0\n",
    "RepublicanWins=0\n",
    "while(i<56):\n",
    "  if(float(reg.predict(np.array([[i, 1,int(totalVotes)]]))[0][0])<float(reg.predict(np.array([[i, 2,int(totalVotes)]]))[0][0])):\n",
    "    RepublicanWins+=1\n",
    "  else:\n",
    "    democratWins+=1\n",
    "  i+=1"
   ]
  },
  {
   "cell_type": "code",
   "execution_count": 64,
   "metadata": {
    "colab": {
     "base_uri": "https://localhost:8080/",
     "height": 34
    },
    "colab_type": "code",
    "id": "ctgw22_Y8u26",
    "outputId": "14b87e2e-e345-4943-8e74-5a47596ed4e1"
   },
   "outputs": [
    {
     "name": "stdout",
     "output_type": "stream",
     "text": [
      "Democratic Party won the election\n"
     ]
    }
   ],
   "source": [
    "if(RepublicanWins<democratWins):\n",
    "  print(\"Democratic Party won the election\")\n",
    "else:\n",
    "    print(\"Republican Party won the election\")\n"
   ]
  }
 ],
 "metadata": {
  "colab": {
   "collapsed_sections": [],
   "name": "Presidential Election Prediction.ipynb",
   "provenance": []
  },
  "kernelspec": {
   "display_name": "Python 3",
   "language": "python",
   "name": "python3"
  },
  "language_info": {
   "codemirror_mode": {
    "name": "ipython",
    "version": 3
   },
   "file_extension": ".py",
   "mimetype": "text/x-python",
   "name": "python",
   "nbconvert_exporter": "python",
   "pygments_lexer": "ipython3",
   "version": "3.7.4"
  }
 },
 "nbformat": 4,
 "nbformat_minor": 1
}
